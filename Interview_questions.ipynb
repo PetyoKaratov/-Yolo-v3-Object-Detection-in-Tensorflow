{
  "nbformat": 4,
  "nbformat_minor": 0,
  "metadata": {
    "colab": {
      "provenance": [],
      "authorship_tag": "ABX9TyPjiMqJ7c4md0oTjWl81MAi",
      "include_colab_link": true
    },
    "kernelspec": {
      "name": "python3",
      "display_name": "Python 3"
    },
    "language_info": {
      "name": "python"
    }
  },
  "cells": [
    {
      "cell_type": "markdown",
      "metadata": {
        "id": "view-in-github",
        "colab_type": "text"
      },
      "source": [
        "<a href=\"https://colab.research.google.com/github/PetyoKaratov/-Yolo-v3-Object-Detection-in-Tensorflow/blob/main/Interview_questions.ipynb\" target=\"_parent\"><img src=\"https://colab.research.google.com/assets/colab-badge.svg\" alt=\"Open In Colab\"/></a>"
      ]
    },
    {
      "cell_type": "markdown",
      "source": [
        "Write a Python function to find the second largest number in a list of integers?"
      ],
      "metadata": {
        "id": "9xuF7ZGv67D8"
      }
    },
    {
      "cell_type": "code",
      "execution_count": null,
      "metadata": {
        "id": "d4Bv3EDg61zF"
      },
      "outputs": [],
      "source": [
        "from typing import List\n",
        "def second_largest(numbers: List) -> str:\n",
        "    if len(numbers) < 2:\n",
        "        return None\n",
        "    largest = float('-inf')\n",
        "    second_largest = float('-inf')\n",
        "    for number in numbers:\n",
        "        if number > largest:\n",
        "            second_largest = largest\n",
        "            largest = number\n",
        "        elif number > second_largest and number != largest:\n",
        "            second_largest = number\n",
        "    return second_largest"
      ]
    },
    {
      "cell_type": "code",
      "source": [
        "second_largest([10, 20, 20, 4, 45, 45, 45, 99, 99])"
      ],
      "metadata": {
        "colab": {
          "base_uri": "https://localhost:8080/"
        },
        "id": "dqteQYgb8Pz2",
        "outputId": "ff534ee1-3493-4bed-90dc-b84d4da2c130"
      },
      "execution_count": null,
      "outputs": [
        {
          "output_type": "execute_result",
          "data": {
            "text/plain": [
              "45"
            ]
          },
          "metadata": {},
          "execution_count": 7
        }
      ]
    },
    {
      "cell_type": "markdown",
      "source": [
        "Write a Python function to check if a string is a palindrome?"
      ],
      "metadata": {
        "id": "lZg9noPz_H4x"
      }
    },
    {
      "cell_type": "code",
      "source": [
        "def palindrome_check(string: str) -> bool:\n",
        "    return string == string[::-1]"
      ],
      "metadata": {
        "id": "EPmA5g7J_Mtx"
      },
      "execution_count": null,
      "outputs": []
    },
    {
      "cell_type": "code",
      "source": [
        "def palindrome_check_2(string: str) -> bool:\n",
        "    reverce = \"\"\n",
        "    for letter in string:\n",
        "        reverce = letter + reverce\n",
        "    return string == reverce"
      ],
      "metadata": {
        "id": "AR6qGDpB_5mD"
      },
      "execution_count": null,
      "outputs": []
    },
    {
      "cell_type": "code",
      "source": [
        "palindrome_check('abba')"
      ],
      "metadata": {
        "colab": {
          "base_uri": "https://localhost:8080/"
        },
        "id": "TXO4tRNnBAG7",
        "outputId": "48c51ed8-6be2-4015-c97e-5302442e5307"
      },
      "execution_count": null,
      "outputs": [
        {
          "output_type": "execute_result",
          "data": {
            "text/plain": [
              "True"
            ]
          },
          "metadata": {},
          "execution_count": 18
        }
      ]
    },
    {
      "cell_type": "code",
      "source": [
        "palindrome_check_2('abba')"
      ],
      "metadata": {
        "colab": {
          "base_uri": "https://localhost:8080/"
        },
        "id": "O5qdzOoiBKZp",
        "outputId": "3242800d-e41a-4809-d13d-7cb295b9caeb"
      },
      "execution_count": null,
      "outputs": [
        {
          "output_type": "execute_result",
          "data": {
            "text/plain": [
              "True"
            ]
          },
          "metadata": {},
          "execution_count": 22
        }
      ]
    },
    {
      "cell_type": "code",
      "source": [
        "#Python tasks:\n",
        "\n",
        "# How will you optimise it?\n",
        "\n",
        "list_a = [1, 2020, 70]\n",
        "\n",
        "list_b = [2, 4, 7, 2000]\n",
        "\n",
        "list_c = [3, 70, 7]\n",
        "\n",
        "for a in list_a:\n",
        "    for b in list_b:\n",
        "        for c in list_c:\n",
        "            if a + b + c == 2077:\n",
        "                print(a, b, c)\n",
        "\n",
        "# 70 2000 7"
      ],
      "metadata": {
        "colab": {
          "base_uri": "https://localhost:8080/"
        },
        "id": "tMooH0QbCgVA",
        "outputId": "9a49a902-9f65-4d1d-ca59-dd0f31290ea3"
      },
      "execution_count": null,
      "outputs": [
        {
          "output_type": "stream",
          "name": "stdout",
          "text": [
            "70 2000 7\n"
          ]
        }
      ]
    },
    {
      "cell_type": "code",
      "source": [
        "import itertools\n",
        "\n",
        "list_a = [1, 2020, 70]\n",
        "list_b = [2, 4, 7, 2000]\n",
        "list_c = [3, 70, 7]\n",
        "\n",
        "list_a.sort(reverse=True)\n",
        "list_b.sort(reverse=True)\n",
        "list_c.sort(reverse=True)\n",
        "\n",
        "target_sum = 2077"
      ],
      "metadata": {
        "id": "MLMpfiglCqtU"
      },
      "execution_count": 65,
      "outputs": []
    },
    {
      "cell_type": "code",
      "source": [
        "for a, b, c in itertools.product(list_a, list_b, list_c):\n",
        "    if a + b + c == target_sum:\n",
        "        print(a, b, c)"
      ],
      "metadata": {
        "colab": {
          "base_uri": "https://localhost:8080/"
        },
        "id": "BGrvRebCDJzn",
        "outputId": "bb9cc661-de20-4a7a-971d-583324f79eae"
      },
      "execution_count": 69,
      "outputs": [
        {
          "output_type": "stream",
          "name": "stdout",
          "text": [
            "70 2000 7\n"
          ]
        }
      ]
    },
    {
      "cell_type": "code",
      "source": [
        "for a in list_a:\n",
        "    for b in list_b:\n",
        "        if a + b >= target_sum:\n",
        "            break\n",
        "        c = target_sum - a - b\n",
        "        if c in list_c:\n",
        "            print(a, b, c)"
      ],
      "metadata": {
        "colab": {
          "base_uri": "https://localhost:8080/"
        },
        "id": "3LN8cd_7FqP1",
        "outputId": "1464215a-7f9d-4160-c06e-7ec394b1e514"
      },
      "execution_count": 68,
      "outputs": [
        {
          "output_type": "stream",
          "name": "stdout",
          "text": [
            "70 2000 7\n"
          ]
        }
      ]
    },
    {
      "cell_type": "code",
      "source": [
        "import numpy as np\n",
        "\n",
        "a = np.array(list_a)\n",
        "b = np.array(list_b)\n",
        "c = np.array(list_c)\n",
        "\n",
        "A, B, C = np.meshgrid(a, b, c, indexing='ij')\n",
        "\n",
        "valid_combinations = (A + B + C == target_sum).nonzero()\n",
        "\n",
        "for i, j, k in zip(*valid_combinations):\n",
        "    print(a[i], b[j], c[k])"
      ],
      "metadata": {
        "colab": {
          "base_uri": "https://localhost:8080/"
        },
        "id": "mvWuDsckz3DH",
        "outputId": "0aa7c4bf-7a79-452e-cf1e-8c825e8b296a"
      },
      "execution_count": 70,
      "outputs": [
        {
          "output_type": "stream",
          "name": "stdout",
          "text": [
            "70 2000 7\n"
          ]
        }
      ]
    },
    {
      "cell_type": "code",
      "source": [
        "# Train a simple neural network on the MNIST dataset using TensorFlow/Keras.\n",
        "\n",
        "# The network should have one hidden layer with 128 neurons, a ReLU activation function, and a softmax output layer.\n",
        "\n",
        "# You can use the default optimizer and loss function.\n",
        "\n",
        "\n",
        "import tensorflow as tf\n",
        "from tensorflow import keras\n",
        "\n",
        " \n",
        "# Load the MNIST dataset\n",
        "(x_train, y_train), (x_test, y_test) = keras.datasets.mnist.load_data()\n",
        "\n",
        " \n",
        "# Preprocess the data\n",
        "x_train = x_train / 255.0\n",
        "x_test = x_test / 255.0\n",
        "y_train = keras.utils.to_categorical(y_train)\n",
        "y_test = keras.utils.to_categorical(y_test)\n",
        "\n",
        "normalize = keras.layers.experimental.preprocessing.Normalization()\n",
        "normalize.adapt(x_train)\n",
        "x_train = normalize(x_train)\n",
        "x_test = normalize(x_test)\n",
        "\n",
        "# Build the model\n",
        "model = keras.Sequential([\n",
        "    keras.layers.Flatten(input_shape=(28, 28)), \n",
        "    keras.layers.Dense(128, activation='relu'),\n",
        "    keras.layers.Dense(10, activation='softmax')\n",
        "])\n",
        "\n",
        " \n",
        "# Compile the model\n",
        "model.compile(optimizer='adam', loss='categorical_crossentropy', metrics=['accuracy'])\n",
        "\n",
        "# Use early stopping\n",
        "early_stop = keras.callbacks.EarlyStopping(monitor='val_loss', patience=3)\n",
        "\n",
        "\n",
        "# Train the model\n",
        "history = model.fit(x_train, y_train, epochs=5, batch_size=32,\n",
        "                    validation_data=(x_test, y_test),\n",
        "                    validation_split=0.1,\n",
        "                    callbacks=[early_stop]\n",
        "                    )\n",
        "\n",
        "# Evaluate the model\n",
        "test_loss, test_acc = model.evaluate(x_test, y_test)\n",
        "\n",
        "print(f'Test accuracy: {test_acc}')"
      ],
      "metadata": {
        "colab": {
          "base_uri": "https://localhost:8080/"
        },
        "id": "9-q4OZaHIhAT",
        "outputId": "c4dc0870-dc09-40be-8717-68d81004ae60"
      },
      "execution_count": null,
      "outputs": [
        {
          "output_type": "stream",
          "name": "stdout",
          "text": [
            "Epoch 1/5\n",
            "1875/1875 [==============================] - 6s 3ms/step - loss: 0.2218 - accuracy: 0.9355 - val_loss: 0.1214 - val_accuracy: 0.9639\n",
            "Epoch 2/5\n",
            "1875/1875 [==============================] - 5s 3ms/step - loss: 0.0973 - accuracy: 0.9720 - val_loss: 0.1074 - val_accuracy: 0.9708\n",
            "Epoch 3/5\n",
            "1875/1875 [==============================] - 5s 3ms/step - loss: 0.0649 - accuracy: 0.9803 - val_loss: 0.0921 - val_accuracy: 0.9751\n",
            "Epoch 4/5\n",
            "1875/1875 [==============================] - 5s 3ms/step - loss: 0.0499 - accuracy: 0.9847 - val_loss: 0.0966 - val_accuracy: 0.9745\n",
            "Epoch 5/5\n",
            "1875/1875 [==============================] - 6s 3ms/step - loss: 0.0350 - accuracy: 0.9890 - val_loss: 0.1108 - val_accuracy: 0.9740\n",
            "313/313 [==============================] - 0s 1ms/step - loss: 0.1108 - accuracy: 0.9740\n",
            "Test accuracy: 0.9739999771118164\n"
          ]
        }
      ]
    }
  ]
}